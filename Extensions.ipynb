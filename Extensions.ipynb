{
 "cells": [
  {
   "cell_type": "code",
   "execution_count": 1,
   "metadata": {},
   "outputs": [
    {
     "name": "stdout",
     "output_type": "stream",
     "text": [
      "Running on  cpu\n"
     ]
    }
   ],
   "source": [
    "from Class_PINN_FBPINN import *\n",
    "import matplotlib.pyplot as plt"
   ]
  },
  {
   "cell_type": "code",
   "execution_count": null,
   "metadata": {},
   "outputs": [],
   "source": [
    "# Parameters\n",
    "domain = [-2*torch.pi, 2*torch.pi]\n",
    "\n",
    "n_multi_scale = 3\n",
    "w_list = [1, 4, 15]\n",
    "n_subdomains = 30\n",
    "overlap = 0.3\n",
    "sigma = 0.1\n",
    "n_hidden_layers = 2\n",
    "neurons = 16\n",
    "\n",
    "# Create the model\n",
    "model = FBPINN_Cos_nD(domain_extrema=domain, n_subdomains=n_subdomains, overlap=overlap, sigma=sigma, n_hidden_layers=n_hidden_layers, neurons=neurons, activation_function=nn.Tanh(), n_multi_scale=n_multi_scale, w_list=w_list)\n",
    "\n",
    "# Train the FBPINN\n",
    "num_points = 200*15\n",
    "n_epochs = 10000\n",
    "\n",
    "history = model.fit(num_points, n_epochs, verbose=False)\n",
    "\n",
    "torch.sa"
   ]
  }
 ],
 "metadata": {
  "kernelspec": {
   "display_name": "MasterThesis",
   "language": "python",
   "name": "python3"
  },
  "language_info": {
   "codemirror_mode": {
    "name": "ipython",
    "version": 3
   },
   "file_extension": ".py",
   "mimetype": "text/x-python",
   "name": "python",
   "nbconvert_exporter": "python",
   "pygments_lexer": "ipython3",
   "version": "3.9.16"
  },
  "orig_nbformat": 4
 },
 "nbformat": 4,
 "nbformat_minor": 2
}
