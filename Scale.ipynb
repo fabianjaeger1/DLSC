{
 "cells": [
  {
   "cell_type": "code",
   "execution_count": 1,
   "metadata": {},
   "outputs": [
    {
     "name": "stderr",
     "output_type": "stream",
     "text": [
      "c:\\Users\\C097\\AppData\\Local\\Programs\\Python\\Python39\\lib\\site-packages\\tqdm\\auto.py:22: TqdmWarning: IProgress not found. Please update jupyter and ipywidgets. See https://ipywidgets.readthedocs.io/en/stable/user_install.html\n",
      "  from .autonotebook import tqdm as notebook_tqdm\n"
     ]
    },
    {
     "name": "stdout",
     "output_type": "stream",
     "text": [
      "Running on  cuda\n"
     ]
    }
   ],
   "source": [
    "from Class_PINN_FBPINN import *\n",
    "import matplotlib.pyplot as plt\n",
    "import pickle"
   ]
  },
  {
   "cell_type": "code",
   "execution_count": 2,
   "metadata": {},
   "outputs": [
    {
     "data": {
      "text/plain": [
       "True"
      ]
     },
     "execution_count": 2,
     "metadata": {},
     "output_type": "execute_result"
    }
   ],
   "source": [
    "torch.cuda.is_available()"
   ]
  },
  {
   "attachments": {},
   "cell_type": "markdown",
   "metadata": {},
   "source": [
    "### Increasing number of subdomains and layers in PINN for multi-scale problem"
   ]
  },
  {
   "cell_type": "code",
   "execution_count": 13,
   "metadata": {},
   "outputs": [],
   "source": [
    "# Parameters\n",
    "domain = [-2*np.pi, 2*np.pi]\n",
    "\n",
    "\n",
    "# w_list = [2, 4, 8, 16, 32]\n",
    "w_list = [2, 4, 8]\n",
    "n_multi_scale = len(w_list)\n",
    "overlap = 0.3\n",
    "sigma = 0.1\n",
    "n_hidden_layers = 4\n",
    "neurons = 64\n",
    "\n",
    "#n_subdomains = 30\n",
    "\n",
    "num_points = 200*15\n",
    "# n_epochs = 10000\n",
    "n_epochs = 50000\n",
    "\n",
    "n_subdomains = [10,30,50,100]\n",
    "# n_subdomains = [10, 30, 50, 100]\n",
    "\n",
    "# n_subdomains = [1]"
   ]
  },
  {
   "cell_type": "code",
   "execution_count": 14,
   "metadata": {},
   "outputs": [],
   "source": [
    "l1_loss_arr = []\n",
    "l1_loss_min = []\n",
    "loss_domains = []"
   ]
  },
  {
   "cell_type": "code",
   "execution_count": 15,
   "metadata": {},
   "outputs": [],
   "source": [
    "# w_list = [1]\n",
    "# num_points = 200\n",
    "# n_multi_scale = len(w_list)\n",
    "# n_subdomains = [2]\n",
    "# overlap = 1.3\n",
    "# # n_epochs = 10000\n",
    "# n_epochs = 10000"
   ]
  },
  {
   "cell_type": "code",
   "execution_count": 16,
   "metadata": {},
   "outputs": [],
   "source": [
    "def plot_solution(model, sub_domain):\n",
    "    fig = plt.figure(figsize=(10, 5))\n",
    "    # Plot the exact solution\n",
    "    x = torch.linspace(domain[0], domain[1], num_points, dtype=torch.float32, device=DEVICE).reshape(-1, 1)\n",
    "    u_exact = model.exact_solution(x)\n",
    "\n",
    "    plt.plot(x.cpu().detach().numpy(), u_exact.cpu().detach().numpy(), label='Exact', color=\"blue\")\n",
    "\n",
    "    # Plot the FBPINN solution\n",
    "    for i in range(model.n_subdomains):\n",
    "\n",
    "        u_approx = torch.tanh(model.w_list[-1] * x) * model(x)  \n",
    "\n",
    "        plt.plot(x.cpu().detach().numpy(), u_approx.cpu().detach().numpy(), color=\"green\")\n",
    "    # Add label only once\n",
    "        if i == 0:\n",
    "            plt.plot(x.cpu().detach().numpy(), u_approx.cpu().detach().numpy(), label='FBPINN', color=\"green\")\n",
    "            \n",
    "    plt.title('FBPINN Nr subdomains: {}'.format(sub_domain))\n",
    "    plt.legend()\n",
    "    plt.xlabel(r'$x$')\n",
    "    plt.ylabel(r'$u$')\n",
    "    plt.savefig(\"fig_scaling/fig_{}_{}.pdf\".format(len(w_list), sub_domain))\n",
    "    plt.show()"
   ]
  },
  {
   "cell_type": "code",
   "execution_count": 17,
   "metadata": {},
   "outputs": [
    {
     "name": "stdout",
     "output_type": "stream",
     "text": [
      "Epoch :  0 \t Loss:  43.591285705566406 \t Epoch_time:  0  s\n",
      "Epoch :  100 \t Loss:  34.9387321472168 \t Epoch_time:  0  s\n",
      "Epoch :  200 \t Loss:  34.476593017578125 \t Epoch_time:  0  s\n",
      "Epoch :  300 \t Loss:  34.30754470825195 \t Epoch_time:  0  s\n",
      "Epoch :  400 \t Loss:  34.15704345703125 \t Epoch_time:  0  s\n",
      "Epoch :  500 \t Loss:  33.97787857055664 \t Epoch_time:  0  s\n",
      "Epoch :  600 \t Loss:  33.76054763793945 \t Epoch_time:  0  s\n",
      "Epoch :  700 \t Loss:  33.48333740234375 \t Epoch_time:  0  s\n",
      "Epoch :  800 \t Loss:  33.15446472167969 \t Epoch_time:  0  s\n",
      "Epoch :  900 \t Loss:  32.78077697753906 \t Epoch_time:  0  s\n",
      "Epoch :  1000 \t Loss:  32.38330841064453 \t Epoch_time:  0  s\n",
      "Epoch :  1100 \t Loss:  31.99915885925293 \t Epoch_time:  0  s\n",
      "Epoch :  1200 \t Loss:  31.619182586669922 \t Epoch_time:  0  s\n",
      "Epoch :  1300 \t Loss:  31.25821876525879 \t Epoch_time:  0  s\n",
      "Epoch :  1400 \t Loss:  30.916345596313477 \t Epoch_time:  0  s\n",
      "Epoch :  1500 \t Loss:  30.636499404907227 \t Epoch_time:  0  s\n",
      "Epoch :  1600 \t Loss:  30.30681037902832 \t Epoch_time:  0  s\n",
      "Epoch :  1700 \t Loss:  30.003957748413086 \t Epoch_time:  0  s\n",
      "Epoch :  1800 \t Loss:  29.683143615722656 \t Epoch_time:  0  s\n",
      "Epoch :  1900 \t Loss:  29.385025024414062 \t Epoch_time:  0  s\n",
      "Epoch :  2000 \t Loss:  29.115070343017578 \t Epoch_time:  0  s\n",
      "Epoch :  2100 \t Loss:  28.82040786743164 \t Epoch_time:  0  s\n",
      "Epoch :  2200 \t Loss:  28.380277633666992 \t Epoch_time:  0  s\n",
      "Epoch :  2300 \t Loss:  28.009387969970703 \t Epoch_time:  0  s\n",
      "Epoch :  2400 \t Loss:  27.662578582763672 \t Epoch_time:  0  s\n",
      "Epoch :  2500 \t Loss:  27.26336097717285 \t Epoch_time:  0  s\n",
      "Epoch :  2600 \t Loss:  26.896770477294922 \t Epoch_time:  0  s\n",
      "Epoch :  2700 \t Loss:  26.47487449645996 \t Epoch_time:  0  s\n",
      "Epoch :  2800 \t Loss:  26.110000610351562 \t Epoch_time:  0  s\n",
      "Epoch :  2900 \t Loss:  25.726863861083984 \t Epoch_time:  0  s\n",
      "Epoch :  3000 \t Loss:  25.34368896484375 \t Epoch_time:  0  s\n",
      "Epoch :  3100 \t Loss:  24.99999237060547 \t Epoch_time:  0  s\n",
      "Epoch :  3200 \t Loss:  24.6552791595459 \t Epoch_time:  0  s\n",
      "Epoch :  3300 \t Loss:  24.338603973388672 \t Epoch_time:  0  s\n",
      "Epoch :  3400 \t Loss:  24.023643493652344 \t Epoch_time:  0  s\n",
      "Epoch :  3500 \t Loss:  23.888671875 \t Epoch_time:  0  s\n",
      "Epoch :  3600 \t Loss:  23.451255798339844 \t Epoch_time:  0  s\n",
      "Epoch :  3700 \t Loss:  23.17544174194336 \t Epoch_time:  0  s\n",
      "Epoch :  3800 \t Loss:  22.951583862304688 \t Epoch_time:  0  s\n",
      "Epoch :  3900 \t Loss:  22.71724510192871 \t Epoch_time:  0  s\n",
      "Epoch :  4000 \t Loss:  22.458755493164062 \t Epoch_time:  0  s\n",
      "Epoch :  4100 \t Loss:  22.25624656677246 \t Epoch_time:  0  s\n",
      "Epoch :  4200 \t Loss:  22.047365188598633 \t Epoch_time:  0  s\n",
      "Epoch :  4300 \t Loss:  21.891389846801758 \t Epoch_time:  0  s\n",
      "Epoch :  4400 \t Loss:  21.73335838317871 \t Epoch_time:  0  s\n",
      "Epoch :  4500 \t Loss:  21.49509620666504 \t Epoch_time:  0  s\n"
     ]
    }
   ],
   "source": [
    "for nr_sub in n_subdomains:\n",
    "\n",
    "    # Create the model\n",
    "    model = FBPINN_Cos_nD(domain_extrema=domain, n_subdomains=nr_sub, overlap=overlap, sigma=sigma, n_hidden_layers=n_hidden_layers, neurons=neurons, activation_function=nn.Tanh(), n_multi_scale=n_multi_scale, w_list=w_list)\n",
    "\n",
    "    # Train the FBPINN\n",
    "    # model.to(mps_device)\n",
    "    history, l1_loss = model.fit(num_points, n_epochs, verbose=True)\n",
    "\n",
    "    l1_loss_arr.append(l1_loss)\n",
    "\n",
    "    print(\"Loss: {}\".format(np.min(l1_loss)))\n",
    "\n",
    "    l1_loss_min.append(np.min(l1_loss))\n",
    "\n",
    "    plot_solution(model, nr_sub)\n",
    "\n",
    "    torch.save(model.state_dict(), 'models_save/scale_fbpinn_{}_{}.pdh'.format(len(w_list), nr_sub))\n",
    "\n",
    "    # Save the l1 loss in pickle\n",
    "    with open(\"l1_loss_scale_fbpinn_{}_{}\".format(len(w_list), nr_sub), 'wb') as file:\n",
    "        pickle.dump(l1_loss, file)"
   ]
  },
  {
   "cell_type": "code",
   "execution_count": 8,
   "metadata": {},
   "outputs": [
    {
     "data": {
      "text/plain": [
       "48"
      ]
     },
     "execution_count": 8,
     "metadata": {},
     "output_type": "execute_result"
    }
   ],
   "source": [
    "len(history)"
   ]
  },
  {
   "cell_type": "code",
   "execution_count": 9,
   "metadata": {},
   "outputs": [
    {
     "data": {
      "text/plain": [
       "[0.5138595700263977,\n",
       " 0.4992067515850067,\n",
       " 0.4917961657047272,\n",
       " 0.48620033264160156,\n",
       " 0.4807687997817993,\n",
       " 0.47518202662467957,\n",
       " 0.46944716572761536,\n",
       " 0.4637770354747772,\n",
       " 0.45828160643577576,\n",
       " 0.45334896445274353,\n",
       " 0.44904661178588867,\n",
       " 0.4452778100967407,\n",
       " 0.4418672025203705,\n",
       " 0.43864476680755615,\n",
       " 0.43540239334106445,\n",
       " 0.43204307556152344,\n",
       " 0.42861154675483704,\n",
       " 0.4252760112285614,\n",
       " 0.4220753312110901,\n",
       " 0.41909530758857727,\n",
       " 0.41623517870903015,\n",
       " 0.41349032521247864,\n",
       " 0.4108520448207855,\n",
       " 0.4082125723361969,\n",
       " 0.4056505858898163,\n",
       " 0.40318968892097473,\n",
       " 0.4008921682834625,\n",
       " 0.3987749516963959,\n",
       " 0.39685142040252686,\n",
       " 0.3950647711753845,\n",
       " 0.3933700621128082,\n",
       " 0.39174404740333557,\n",
       " 0.3901687264442444,\n",
       " 0.3886567950248718,\n",
       " 0.38726988434791565,\n",
       " 0.385949045419693,\n",
       " 0.3847091495990753,\n",
       " 0.3835436999797821,\n",
       " 0.38242247700691223,\n",
       " 0.3813522756099701,\n",
       " 0.3803088665008545,\n",
       " 0.37936079502105713,\n",
       " 0.3784486651420593,\n",
       " 0.3776313364505768,\n",
       " 0.37686148285865784,\n",
       " 0.3761380612850189,\n",
       " 0.37544310092926025,\n",
       " 0.37478622794151306]"
      ]
     },
     "execution_count": 9,
     "metadata": {},
     "output_type": "execute_result"
    }
   ],
   "source": [
    "history"
   ]
  },
  {
   "cell_type": "code",
   "execution_count": null,
   "metadata": {},
   "outputs": [
    {
     "data": {
      "text/plain": [
       "<All keys matched successfully>"
      ]
     },
     "execution_count": 30,
     "metadata": {},
     "output_type": "execute_result"
    }
   ],
   "source": [
    "model_test = FBPINN_Cos_nD(domain_extrema=domain, n_subdomains=1, overlap=overlap, sigma=sigma, n_hidden_layers=n_hidden_layers, neurons=neurons, activation_function=nn.Tanh(), n_multi_scale=n_multi_scale, w_list=w_list)\n",
    "model_test.load_state_dict(torch.load(\"models_save/scale_fbpinn_1.pdh\"))\n",
    "# model_test.eval()\n"
   ]
  },
  {
   "cell_type": "code",
   "execution_count": null,
   "metadata": {},
   "outputs": [
    {
     "data": {
      "image/png": "[encoded data removed]",
      "text/plain": [
       "<Figure size 432x288 with 1 Axes>"
      ]
     },
     "metadata": {
      "needs_background": "light"
     },
     "output_type": "display_data"
    }
   ],
   "source": [
    "plot_solution(model_test) "
   ]
  },
  {
   "cell_type": "markdown",
   "metadata": {},
   "source": [
    "### PINN Solution"
   ]
  },
  {
   "cell_type": "code",
   "execution_count": null,
   "metadata": {},
   "outputs": [],
   "source": [
    "num_points = 200*15\n",
    "n_epochs = 50000\n",
    "\n",
    "l1_loss_pinn_arr = []\n",
    "l1_loss_pinn_min = []\n",
    "loss_pinns_layers = []"
   ]
  },
  {
   "cell_type": "code",
   "execution_count": null,
   "metadata": {},
   "outputs": [],
   "source": [
    "def plot_solution_pinn(model, nr_layers):\n",
    "    fig = plt.figure(figsize=(10, 5))\n",
    "    model.eval()\n",
    "    # test points\n",
    "    x = torch.linspace(-2*torch.pi, 2*torch.pi, num_points, dtype=torch.float32, device=DEVICE, requires_grad=True).reshape(-1, 1)   # the input has to be of shape (n, 1)\n",
    "\n",
    "    # Evaluate the exact solution\n",
    "    u_exact = model.exact_solution(x)\n",
    "\n",
    "    # Evaluate the approximate solution\n",
    "    u_approx = torch.tanh(model.w_list[1] * model.normalize_input(x)) * model.unnormalize_output( model( model.normalize_input(x)) )\n",
    "\n",
    "    # Resale the approximate solution to the same scale as the exact solution\n",
    "    u_approx = model.restore_output(u_approx)\n",
    "\n",
    "    #Plot\n",
    "    \n",
    "    plt.plot(x.cpu().detach().numpy(), u_exact.cpu().detach().numpy(), label='Exact Solution')\n",
    "    plt.plot(x.cpu().detach().numpy(), u_approx.cpu().detach().numpy(), label='PINN')\n",
    "    plt.title('PINN ({} layers)'.format(nr_layers))\n",
    "    plt.legend()\n",
    "    plt.xlabel(r'$x$')\n",
    "    plt.ylabel(r'$u$')\n",
    "    plt.savefig(\"fig_scaling/fig_pinn_{}_{}.pdf\".format(len(w_list), nr_layers))\n",
    "    plt.show()\n",
    "\n",
    "    plt.show()"
   ]
  },
  {
   "cell_type": "code",
   "execution_count": null,
   "metadata": {},
   "outputs": [],
   "source": [
    "# domain_extrema = [-2*np.pi, 2*np.pi]\n",
    "\n",
    "# n_multi_scale = 2\n",
    "# w_list = [1, 15]\n",
    "# n_hidden_layers = 5\n",
    "# neurons = 128\n",
    "# activation_function = nn.Tanh()\n",
    "\n",
    "\n",
    "n_hidden_layers = [2, 3, 5, 8]\n",
    "\n",
    "for nr_lay in n_hidden_layers:\n",
    "\n",
    "    # Create the model      \n",
    "    model = PINN_Cos_nD(domain, n_hidden_layers, neurons, activation_function=nn.Tanh(), n_multi_scale = n_multi_scale, w_list=w_list)\n",
    "\n",
    "    optimizer_ADAM = optim.Adam(model.parameters(),\n",
    "                                lr=float(0.001))\n",
    "\n",
    "    history, l1_loss_pinn = model.fit(num_points, optimizer_ADAM, n_epochs, verbose=False)\n",
    "\n",
    "    l1_loss_pinn_arr.append(l1_loss_pinn)\n",
    "    \n",
    "    print(\"Loss: {}\".format(np.min(l1_loss)))\n",
    "    l1_loss_pinn_min.append(np.min(l1_loss))\n",
    "\n",
    "    torch.save(model.state_dict(), 'models_save/scale_pinn_{}_{}.pdh'.format(len(w_list), nr_lay))\n",
    "\n",
    "    with open(\"l1_loss_scale_pinn_{}_{}\".format(len(w_list), nr_lay), 'wb') as file:\n",
    "        pickle.dump(l1_loss_pinn, file)"
   ]
  },
  {
   "cell_type": "code",
   "execution_count": null,
   "metadata": {},
   "outputs": [],
   "source": [
    "model = FBPINN_Cos_nD(domain_extrema=domain, n_subdomains=nr_sub, overlap=overlap, sigma=sigma, n_hidden_layers=n_hidden_layers, neurons=neurons, activation_function=nn.Tanh(), n_multi_scale=n_multi_scale, w_list=w_list)\n",
    "\n",
    "# Train the FBPINN\n",
    "# model.to(mps_device)\n",
    "history, l1_loss = model.fit(num_points, n_epochs, verbose=False)\n",
    "\n",
    "\n",
    "\n",
    "plot_solution(model, nr_sub)\n",
    "\n",
    "\n",
    "# Save the l1 loss in pickle\n"
   ]
  },
  {
   "cell_type": "code",
   "execution_count": null,
   "metadata": {},
   "outputs": [
    {
     "ename": "AttributeError",
     "evalue": "module 'torch' has no attribute 'pi'",
     "output_type": "error",
     "traceback": [
      "\u001b[1;31m---------------------------------------------------------------------------\u001b[0m",
      "\u001b[1;31mAttributeError\u001b[0m                            Traceback (most recent call last)",
      "\u001b[1;32mc:\\Users\\C097\\Desktop\\DeepLearning\\Task_B\\Final_Version\\Scale.ipynb Cell 8\u001b[0m in \u001b[0;36m<cell line: 2>\u001b[1;34m()\u001b[0m\n\u001b[0;32m      <a href='vscode-notebook-cell:/c%3A/Users/C097/Desktop/DeepLearning/Task_B/Final_Version/Scale.ipynb#X10sZmlsZQ%3D%3D?line=0'>1</a>\u001b[0m \u001b[39m# Parameters\u001b[39;00m\n\u001b[1;32m----> <a href='vscode-notebook-cell:/c%3A/Users/C097/Desktop/DeepLearning/Task_B/Final_Version/Scale.ipynb#X10sZmlsZQ%3D%3D?line=1'>2</a>\u001b[0m domain \u001b[39m=\u001b[39m [\u001b[39m-\u001b[39m\u001b[39m2\u001b[39m\u001b[39m*\u001b[39mtorch\u001b[39m.\u001b[39;49mpi, \u001b[39m2\u001b[39m\u001b[39m*\u001b[39mtorch\u001b[39m.\u001b[39mpi]\n\u001b[0;32m      <a href='vscode-notebook-cell:/c%3A/Users/C097/Desktop/DeepLearning/Task_B/Final_Version/Scale.ipynb#X10sZmlsZQ%3D%3D?line=3'>4</a>\u001b[0m n_multi_scale \u001b[39m=\u001b[39m \u001b[39m3\u001b[39m\n\u001b[0;32m      <a href='vscode-notebook-cell:/c%3A/Users/C097/Desktop/DeepLearning/Task_B/Final_Version/Scale.ipynb#X10sZmlsZQ%3D%3D?line=4'>5</a>\u001b[0m w_list \u001b[39m=\u001b[39m [\u001b[39m1\u001b[39m, \u001b[39m4\u001b[39m, \u001b[39m15\u001b[39m]\n",
      "\u001b[1;31mAttributeError\u001b[0m: module 'torch' has no attribute 'pi'"
     ]
    }
   ],
   "source": [
    "# Parameters\n",
    "# domain = [-2*torch.pi, 2*torch.pi]\n",
    "\n",
    "# n_multi_scale = 3\n",
    "# w_list = [1, 4, 15]\n",
    "# n_subdomains = 30\n",
    "# overlap = 0.3\n",
    "# sigma = 0.1\n",
    "# n_hidden_layers = 2\n",
    "# neurons = 16\n",
    "\n",
    "# # Create the model\n",
    "# fbpinn = FBPINN_Cos_nD(domain_extrema=domain, n_subdomains=n_subdomains, overlap=overlap, sigma=sigma, n_hidden_layers=n_hidden_layers, neurons=neurons, activation_function=nn.Tanh(), n_multi_scale=n_multi_scale, w_list=w_list)\n",
    "\n",
    "# # Train the FBPINN\n",
    "# num_points = 200*15\n",
    "# n_epochs = 10000\n",
    "\n",
    "# history = fbpinn.fit(num_points, n_epochs, verbose=False)"
   ]
  }
 ],
 "metadata": {
  "kernelspec": {
   "display_name": "pytorch",
   "language": "python",
   "name": "python3"
  },
  "language_info": {
   "codemirror_mode": {
    "name": "ipython",
    "version": 3
   },
   "file_extension": ".py",
   "mimetype": "text/x-python",
   "name": "python",
   "nbconvert_exporter": "python",
   "pygments_lexer": "ipython3",
   "version": "3.9.12"
  },
  "orig_nbformat": 4
 },
 "nbformat": 4,
 "nbformat_minor": 2
}
